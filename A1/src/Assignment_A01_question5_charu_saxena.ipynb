{
 "cells": [
  {
   "cell_type": "markdown",
   "metadata": {},
   "source": [
    "# Question:5 \n",
    "Assignment by: charu saxena(A20378393)"
   ]
  },
  {
   "cell_type": "code",
   "execution_count": 3,
   "metadata": {},
   "outputs": [],
   "source": [
    "import numpy as np\n",
    "from numpy import *\n",
    "from vpython import *"
   ]
  },
  {
   "cell_type": "markdown",
   "metadata": {},
   "source": [
    "A"
   ]
  },
  {
   "cell_type": "code",
   "execution_count": 4,
   "metadata": {},
   "outputs": [],
   "source": [
    "A= vector(1,2,3)\n",
    "B = vector(4,5,6)\n",
    "C = vector(-1,1,3)\n"
   ]
  },
  {
   "cell_type": "code",
   "execution_count": 5,
   "metadata": {},
   "outputs": [
    {
     "data": {
      "text/plain": [
       "<-2.000000, -1.000000, 0.000000>"
      ]
     },
     "execution_count": 5,
     "metadata": {},
     "output_type": "execute_result"
    }
   ],
   "source": [
    "#A1)\n",
    "(2*A)-B"
   ]
  },
  {
   "cell_type": "code",
   "execution_count": 10,
   "metadata": {},
   "outputs": [
    {
     "name": "stdout",
     "output_type": "stream",
     "text": [
      "mod of A: 3.7416573867739413\n",
      "angle of A wrt x axis : 74.498640433063\n"
     ]
    }
   ],
   "source": [
    "#A2\n",
    "print(\"mod of A:\",A.mag)\n",
    "#np.angle(1i+1j+3k, deg=True)\n",
    "X= vector(1,0,0)\n",
    "print(\"angle of A wrt x axis :\",math.degrees(A.diff_angle(X)))\n"
   ]
  },
  {
   "cell_type": "code",
   "execution_count": 11,
   "metadata": {},
   "outputs": [
    {
     "data": {
      "text/plain": [
       "<0.267261, 0.534522, 0.801784>"
      ]
     },
     "execution_count": 11,
     "metadata": {},
     "output_type": "execute_result"
    }
   ],
   "source": [
    "#A3 unit vector\n",
    "\n",
    "#mag=pow(A,2)+pow(B,2)+pow(C,2)\n",
    "#denom = pow(mag,1/2)\n",
    "#unit_vector = np.array ([A/denom])\n",
    "#unit_vector\n",
    "unit_vectorA = A.norm()\n",
    "unit_vectorA\n"
   ]
  },
  {
   "cell_type": "code",
   "execution_count": 12,
   "metadata": {},
   "outputs": [
    {
     "data": {
      "text/plain": [
       "<0.267261, 0.534522, 0.801784>"
      ]
     },
     "execution_count": 12,
     "metadata": {},
     "output_type": "execute_result"
    }
   ],
   "source": [
    "#A4 directional cosines of A\n",
    "directional_cosines_for_A = A.norm()\n",
    "directional_cosines_for_A\n"
   ]
  },
  {
   "cell_type": "code",
   "execution_count": 13,
   "metadata": {},
   "outputs": [
    {
     "name": "stdout",
     "output_type": "stream",
     "text": [
      "32.0\n"
     ]
    },
    {
     "data": {
      "text/plain": [
       "32.0"
      ]
     },
     "execution_count": 13,
     "metadata": {},
     "output_type": "execute_result"
    }
   ],
   "source": [
    "#A5 A.B and B.A\n",
    "a_dot_b = A.dot(B)\n",
    "b_dot_a = B.dot(A)\n",
    "print(a_dot_b)\n",
    "b_dot_a"
   ]
  },
  {
   "cell_type": "code",
   "execution_count": 15,
   "metadata": {},
   "outputs": [
    {
     "name": "stdout",
     "output_type": "stream",
     "text": [
      "angle between A and B 0.2257261285527342\n"
     ]
    }
   ],
   "source": [
    "#A6 angle between A and B\n",
    "print(\"angle between A and B\",A.diff_angle(B))"
   ]
  },
  {
   "cell_type": "code",
   "execution_count": 19,
   "metadata": {},
   "outputs": [
    {
     "name": "stdout",
     "output_type": "stream",
     "text": [
      "vector perpendicular to A is : <-1.000000, 2.000000, -1.000000>\n"
     ]
    }
   ],
   "source": [
    "#A7 a vector perpendicular to A\n",
    "#to find this let one of the vector be D[1,1,1]\n",
    "#then we will find a vector perpendicular to both A and D which will give \n",
    "#our desired answer:\n",
    "D = vector(1,1,1)\n",
    "print(\"vector perpendicular to A is :\",A.cross(D))"
   ]
  },
  {
   "cell_type": "code",
   "execution_count": 21,
   "metadata": {},
   "outputs": [
    {
     "name": "stdout",
     "output_type": "stream",
     "text": [
      "A cross B is : <-3.000000, 6.000000, -3.000000>\n",
      "B cross A is : <3.000000, -6.000000, 3.000000>\n"
     ]
    }
   ],
   "source": [
    "#A8 AxB and BXA\n",
    "\n",
    "print(\"A cross B is :\",A.cross(B))\n",
    "print(\"B cross A is :\",B.cross(A))"
   ]
  },
  {
   "cell_type": "code",
   "execution_count": 23,
   "metadata": {},
   "outputs": [
    {
     "name": "stdout",
     "output_type": "stream",
     "text": [
      "vector perpendicular to both a and B is: <-3.000000, 6.000000, -3.000000>\n"
     ]
    }
   ],
   "source": [
    "#A9 a vector perpendicular to both A and B\n",
    "\n",
    "print(\"vector perpendicular to both a and B is:\",cross(A,B))"
   ]
  },
  {
   "cell_type": "code",
   "execution_count": 28,
   "metadata": {},
   "outputs": [
    {
     "name": "stdout",
     "output_type": "stream",
     "text": [
      "they are linear independent\n"
     ]
    }
   ],
   "source": [
    "#A10 linear dependency\n",
    "a=np.array([1,2,3])\n",
    "b= np.array([4,5,6])\n",
    "c= np.array([-1,1,3])\n",
    "mat = np.column_stack((a,b,c))\n",
    "if(np.linalg.det(mat)==0):\n",
    "    print(\"they are linear dependent\")\n",
    "else:\n",
    "    print(\"they are linear independent\")"
   ]
  },
  {
   "cell_type": "code",
   "execution_count": 6,
   "metadata": {},
   "outputs": [
    {
     "name": "stdout",
     "output_type": "stream",
     "text": [
      "a trnspose b is :  32\n",
      "b trnspose a is :  32\n"
     ]
    }
   ],
   "source": [
    "#A11\n",
    "a=np.array([1,2,3])\n",
    "b= np.array([4,5,6])\n",
    "A_transpose_B = np.dot(np.transpose(a),b)\n",
    "B_transpose_A = np.dot(np.transpose(b),a)\n",
    "print(\"a trnspose b is : \",A_transpose_B )\n",
    "print(\"b trnspose a is : \",B_transpose_A )"
   ]
  },
  {
   "cell_type": "markdown",
   "metadata": {},
   "source": [
    "# Question B"
   ]
  },
  {
   "cell_type": "code",
   "execution_count": 31,
   "metadata": {},
   "outputs": [
    {
     "name": "stdout",
     "output_type": "stream",
     "text": [
      "2A-B is :\n",
      " [[ 1  2  5]\n",
      " [ 6 -5 10]\n",
      " [-3 12 -3]]\n"
     ]
    }
   ],
   "source": [
    "#B1 2A-B\n",
    "A = np.array([[1,2,3],[4,-2,3],[0,5,-1]])\n",
    "B = np.array([[1,2,1],[2,1,-4],[3,-2,1]])\n",
    "C = np.array([[1,2,3],[4,5,6],[-1,1,3]])\n",
    "\n",
    "print(\"2A-B is :\\n\",2*A-B)"
   ]
  },
  {
   "cell_type": "code",
   "execution_count": 32,
   "metadata": {},
   "outputs": [
    {
     "name": "stdout",
     "output_type": "stream",
     "text": [
      "AB is :\n",
      " [[ 14  -2  -4]\n",
      " [  9   0  15]\n",
      " [  7   7 -21]]\n",
      "BA is :\n",
      " [[  9   3   8]\n",
      " [  6 -18  13]\n",
      " [ -5  15   2]]\n"
     ]
    }
   ],
   "source": [
    "#B2 AB and BA\n",
    "\n",
    "print(\"AB is :\\n\",np.dot(A,B))\n",
    "print(\"BA is :\\n\",np.dot(B,A))"
   ]
  },
  {
   "cell_type": "code",
   "execution_count": 33,
   "metadata": {},
   "outputs": [
    {
     "name": "stdout",
     "output_type": "stream",
     "text": [
      "AB tranpose is :\n",
      " [[ 14   9   7]\n",
      " [ -2   0   7]\n",
      " [ -4  15 -21]]\n",
      "B tranpose dot A transpose is :\n",
      " [[ 14   9   7]\n",
      " [ -2   0   7]\n",
      " [ -4  15 -21]]\n"
     ]
    }
   ],
   "source": [
    "#B3 (AB)transpose and B(transpose)A(transpose)\n",
    "print(\"AB tranpose is :\\n\",np.transpose(np.dot(A,B)))\n",
    "print(\"B tranpose dot A transpose is :\\n\",np.dot(np.transpose(B),np.transpose(A)))"
   ]
  },
  {
   "cell_type": "code",
   "execution_count": 34,
   "metadata": {},
   "outputs": [
    {
     "name": "stdout",
     "output_type": "stream",
     "text": [
      "A:  55.0\n",
      "C:  7.49400541622e-16\n"
     ]
    }
   ],
   "source": [
    "#B4 determinant of A and C\n",
    "\n",
    "print(\"A: \",np.linalg.det(A))\n",
    "print(\"C: \",np.linalg.det(C))"
   ]
  },
  {
   "cell_type": "code",
   "execution_count": 40,
   "metadata": {},
   "outputs": [
    {
     "name": "stdout",
     "output_type": "stream",
     "text": [
      "matrix B has row vectors orthognal in nature.\n"
     ]
    }
   ],
   "source": [
    "#B5 matrix in which the row vectors are orthogonal\n",
    "if (np.dot(A[0],A[1])==0 or np.dot(A[0],A[2])==0 or np.dot(A[2],A[1])==0):\n",
    "    print(\"matrix A has row vectors orthognal in nature.\")\n",
    "elif (np.dot(B[0],B[1])==0 or np.dot(B[0],B[2])==0 or np.dot(B[2],B[1])==0):\n",
    "    print(\"matrix B has row vectors orthognal in nature.\")\n",
    "elif (np.dot(C[0],C[1])==0 or np.dot(C[0],C[2])==0 or np.dot(C[2],C[1])==0):\n",
    "    print(\"matrix C has row vectors orthognal in nature.\")\n",
    "else:\n",
    "    print(\"none\")"
   ]
  },
  {
   "cell_type": "code",
   "execution_count": 41,
   "metadata": {},
   "outputs": [
    {
     "name": "stdout",
     "output_type": "stream",
     "text": [
      "A inverse: \n",
      " [[-0.23636364  0.30909091  0.21818182]\n",
      " [ 0.07272727 -0.01818182  0.16363636]\n",
      " [ 0.36363636 -0.09090909 -0.18181818]]\n",
      "B inverse: \n",
      " [[ 0.16666667  0.0952381   0.21428571]\n",
      " [ 0.33333333  0.04761905 -0.14285714]\n",
      " [ 0.16666667 -0.19047619  0.07142857]]\n"
     ]
    }
   ],
   "source": [
    "#B6 A^-1 and B^-1\n",
    "\n",
    "print(\"A inverse: \\n\",np.linalg.inv(A))\n",
    "print(\"B inverse: \\n\",np.linalg.inv(B))"
   ]
  },
  {
   "cell_type": "markdown",
   "metadata": {},
   "source": [
    "# Question C:"
   ]
  },
  {
   "cell_type": "code",
   "execution_count": 42,
   "metadata": {
    "collapsed": true
   },
   "outputs": [],
   "source": [
    "A = np.array([[1,2],[3,2]])\n",
    "B = np.array([[2,-2],[-2,5]])"
   ]
  },
  {
   "cell_type": "code",
   "execution_count": 43,
   "metadata": {},
   "outputs": [
    {
     "name": "stdout",
     "output_type": "stream",
     "text": [
      "A eigen values : \n",
      " [[-0.70710678 -0.5547002 ]\n",
      " [ 0.70710678 -0.83205029]]\n",
      "A eigen vectors : \n",
      " [-1.  4.]\n"
     ]
    }
   ],
   "source": [
    "#1 eigen value and vector A\n",
    "\n",
    "eigen_A,Vectors = np.linalg.eig(A)\n",
    "print(\"A eigen values : \\n\",Vectors)\n",
    "print(\"A eigen vectors : \\n\",eigen_A)"
   ]
  },
  {
   "cell_type": "code",
   "execution_count": 48,
   "metadata": {},
   "outputs": [
    {
     "name": "stdout",
     "output_type": "stream",
     "text": [
      "V^-1 AV:\n",
      " [[ -1.00000000e+00  -4.44089210e-16]\n",
      " [  0.00000000e+00   4.00000000e+00]]\n"
     ]
    }
   ],
   "source": [
    "#2 eigen V inverse dot A dot V\n",
    "\n",
    "print(\"V^-1 AV:\\n\", np.dot(np.dot((np.linalg.inv(Vectors)),A),Vectors) )"
   ]
  },
  {
   "cell_type": "code",
   "execution_count": 51,
   "metadata": {},
   "outputs": [
    {
     "name": "stdout",
     "output_type": "stream",
     "text": [
      "Dot product between eigen vectors of A:\n",
      "  -0.196116135138\n"
     ]
    }
   ],
   "source": [
    "#3 dot product between eigen-vectors of  A\n",
    "print(\"Dot product between eigen vectors of A:\\n \",np.dot(Vectors[:,0],Vectors[:,1]))\n"
   ]
  },
  {
   "cell_type": "code",
   "execution_count": 52,
   "metadata": {},
   "outputs": [
    {
     "name": "stdout",
     "output_type": "stream",
     "text": [
      "Dot product between eigen vectors of B:\n",
      "  0.0\n"
     ]
    }
   ],
   "source": [
    "#4 dot product between eigen-vectors of B\n",
    "\n",
    "eigen_B,Vectors_B = np.linalg.eig(B)\n",
    "print(\"Dot product between eigen vectors of B:\\n \",np.dot(Vectors_B[:,0],Vectors_B[:,1]))"
   ]
  },
  {
   "cell_type": "raw",
   "metadata": {
    "collapsed": true
   },
   "source": [
    "#5 since b is symmteric its eigen values are orthogonal"
   ]
  },
  {
   "cell_type": "code",
   "execution_count": null,
   "metadata": {},
   "outputs": [],
   "source": []
  },
  {
   "cell_type": "code",
   "execution_count": null,
   "metadata": {},
   "outputs": [],
   "source": []
  },
  {
   "cell_type": "code",
   "execution_count": null,
   "metadata": {
    "collapsed": true
   },
   "outputs": [],
   "source": []
  }
 ],
 "metadata": {
  "kernelspec": {
   "display_name": "Python 3",
   "language": "python",
   "name": "python3"
  },
  "language_info": {
   "codemirror_mode": {
    "name": "ipython",
    "version": 3
   },
   "file_extension": ".py",
   "mimetype": "text/x-python",
   "name": "python",
   "nbconvert_exporter": "python",
   "pygments_lexer": "ipython3",
   "version": "3.6.1"
  }
 },
 "nbformat": 4,
 "nbformat_minor": 2
}
